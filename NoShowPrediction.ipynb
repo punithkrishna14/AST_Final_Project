{
 "cells": [
  {
   "cell_type": "code",
   "execution_count": 3,
   "metadata": {},
   "outputs": [],
   "source": [
    "import pandas as pd\n",
    "import seaborn as sns\n",
    "import numpy as np\n",
    "import matplotlib.pyplot as plt\n",
    "from matplotlib import pylab\n",
    "import scipy\n",
    "from scipy import stats\n",
    "import missingno as msno\n",
    "from sklearn.ensemble import RandomForestClassifier\n",
    "from sklearn import datasets\n",
    "from sklearn.model_selection import train_test_split\n",
    "from sklearn.feature_selection import SelectFromModel\n",
    "from sklearn.metrics import accuracy_score"
   ]
  },
  {
   "cell_type": "code",
   "execution_count": 4,
   "metadata": {},
   "outputs": [],
   "source": [
    "dataFrame = pd.read_csv('https://raw.githubusercontent.com/priyadarshi0007/ASTCapstone/master/AppointmentData.csv')"
   ]
  },
  {
   "cell_type": "code",
   "execution_count": 7,
   "metadata": {},
   "outputs": [
    {
     "name": "stdout",
     "output_type": "stream",
     "text": [
      "<class 'pandas.core.frame.DataFrame'>\n",
      "RangeIndex: 110527 entries, 0 to 110526\n",
      "Data columns (total 14 columns):\n",
      "PatientId         110527 non-null float64\n",
      "AppointmentID     110527 non-null int64\n",
      "Gender            110388 non-null object\n",
      "ScheduledDay      110527 non-null object\n",
      "AppointmentDay    110527 non-null object\n",
      "Age               110408 non-null float64\n",
      "Neighbourhood     110527 non-null object\n",
      "Scholarship       110507 non-null float64\n",
      "Hipertension      110506 non-null float64\n",
      "Diabetes          110527 non-null int64\n",
      "Alcoholism        110505 non-null float64\n",
      "Handcap           110527 non-null int64\n",
      "SMS_received      110527 non-null int64\n",
      "No-show           107751 non-null object\n",
      "dtypes: float64(5), int64(4), object(5)\n",
      "memory usage: 11.8+ MB\n"
     ]
    }
   ],
   "source": [
    "dataFrame.info()"
   ]
  },
  {
   "cell_type": "code",
   "execution_count": 8,
   "metadata": {},
   "outputs": [],
   "source": [
    "#Renaming The Columns\n",
    "\n",
    "dataFrame.rename(columns = {'ApointmentData':'AppointmentData',\n",
    "                         'Alcoolism': 'Alchoholism',\n",
    "                         'HiperTension': 'Hypertension',\n",
    "                         'Handcap': 'Handicap','No-show':'NoShow'}, inplace = True)"
   ]
  },
  {
   "cell_type": "code",
   "execution_count": 9,
   "metadata": {},
   "outputs": [
    {
     "data": {
      "text/html": [
       "<div>\n",
       "<style scoped>\n",
       "    .dataframe tbody tr th:only-of-type {\n",
       "        vertical-align: middle;\n",
       "    }\n",
       "\n",
       "    .dataframe tbody tr th {\n",
       "        vertical-align: top;\n",
       "    }\n",
       "\n",
       "    .dataframe thead th {\n",
       "        text-align: right;\n",
       "    }\n",
       "</style>\n",
       "<table border=\"1\" class=\"dataframe\">\n",
       "  <thead>\n",
       "    <tr style=\"text-align: right;\">\n",
       "      <th></th>\n",
       "      <th>PatientId</th>\n",
       "      <th>AppointmentID</th>\n",
       "      <th>Gender</th>\n",
       "      <th>ScheduledDay</th>\n",
       "      <th>AppointmentDay</th>\n",
       "      <th>Age</th>\n",
       "      <th>Neighbourhood</th>\n",
       "      <th>Scholarship</th>\n",
       "      <th>Hipertension</th>\n",
       "      <th>Diabetes</th>\n",
       "      <th>Alcoholism</th>\n",
       "      <th>Handicap</th>\n",
       "      <th>SMS_received</th>\n",
       "      <th>NoShow</th>\n",
       "    </tr>\n",
       "  </thead>\n",
       "  <tbody>\n",
       "    <tr>\n",
       "      <th>0</th>\n",
       "      <td>2.990000e+13</td>\n",
       "      <td>5642903</td>\n",
       "      <td>F</td>\n",
       "      <td>2016-04-29T18:38:08Z</td>\n",
       "      <td>2016-04-29T00:00:00Z</td>\n",
       "      <td>62.0</td>\n",
       "      <td>JARDIM DA PENHA</td>\n",
       "      <td>0.0</td>\n",
       "      <td>1.0</td>\n",
       "      <td>0</td>\n",
       "      <td>0.0</td>\n",
       "      <td>0</td>\n",
       "      <td>0</td>\n",
       "      <td>No</td>\n",
       "    </tr>\n",
       "    <tr>\n",
       "      <th>1</th>\n",
       "      <td>5.590000e+14</td>\n",
       "      <td>5642503</td>\n",
       "      <td>M</td>\n",
       "      <td>2016-04-29T16:08:27Z</td>\n",
       "      <td>2016-04-29T00:00:00Z</td>\n",
       "      <td>56.0</td>\n",
       "      <td>JARDIM DA PENHA</td>\n",
       "      <td>0.0</td>\n",
       "      <td>0.0</td>\n",
       "      <td>0</td>\n",
       "      <td>0.0</td>\n",
       "      <td>0</td>\n",
       "      <td>0</td>\n",
       "      <td>No</td>\n",
       "    </tr>\n",
       "    <tr>\n",
       "      <th>2</th>\n",
       "      <td>4.260000e+12</td>\n",
       "      <td>5642549</td>\n",
       "      <td>F</td>\n",
       "      <td>2016-04-29T16:19:04Z</td>\n",
       "      <td>2016-04-29T00:00:00Z</td>\n",
       "      <td>62.0</td>\n",
       "      <td>MATA DA PRAIA</td>\n",
       "      <td>0.0</td>\n",
       "      <td>0.0</td>\n",
       "      <td>0</td>\n",
       "      <td>0.0</td>\n",
       "      <td>0</td>\n",
       "      <td>0</td>\n",
       "      <td>No</td>\n",
       "    </tr>\n",
       "    <tr>\n",
       "      <th>3</th>\n",
       "      <td>8.680000e+11</td>\n",
       "      <td>5642828</td>\n",
       "      <td>F</td>\n",
       "      <td>2016-04-29T17:29:31Z</td>\n",
       "      <td>2016-04-29T00:00:00Z</td>\n",
       "      <td>8.0</td>\n",
       "      <td>PONTAL DE CAMBURI</td>\n",
       "      <td>0.0</td>\n",
       "      <td>0.0</td>\n",
       "      <td>0</td>\n",
       "      <td>0.0</td>\n",
       "      <td>0</td>\n",
       "      <td>0</td>\n",
       "      <td>No</td>\n",
       "    </tr>\n",
       "    <tr>\n",
       "      <th>4</th>\n",
       "      <td>8.840000e+12</td>\n",
       "      <td>5642494</td>\n",
       "      <td>F</td>\n",
       "      <td>2016-04-29T16:07:23Z</td>\n",
       "      <td>2016-04-29T00:00:00Z</td>\n",
       "      <td>56.0</td>\n",
       "      <td>JARDIM DA PENHA</td>\n",
       "      <td>0.0</td>\n",
       "      <td>1.0</td>\n",
       "      <td>1</td>\n",
       "      <td>0.0</td>\n",
       "      <td>0</td>\n",
       "      <td>0</td>\n",
       "      <td>No</td>\n",
       "    </tr>\n",
       "  </tbody>\n",
       "</table>\n",
       "</div>"
      ],
      "text/plain": [
       "      PatientId  AppointmentID Gender          ScheduledDay  \\\n",
       "0  2.990000e+13        5642903      F  2016-04-29T18:38:08Z   \n",
       "1  5.590000e+14        5642503      M  2016-04-29T16:08:27Z   \n",
       "2  4.260000e+12        5642549      F  2016-04-29T16:19:04Z   \n",
       "3  8.680000e+11        5642828      F  2016-04-29T17:29:31Z   \n",
       "4  8.840000e+12        5642494      F  2016-04-29T16:07:23Z   \n",
       "\n",
       "         AppointmentDay   Age      Neighbourhood  Scholarship  Hipertension  \\\n",
       "0  2016-04-29T00:00:00Z  62.0    JARDIM DA PENHA          0.0           1.0   \n",
       "1  2016-04-29T00:00:00Z  56.0    JARDIM DA PENHA          0.0           0.0   \n",
       "2  2016-04-29T00:00:00Z  62.0      MATA DA PRAIA          0.0           0.0   \n",
       "3  2016-04-29T00:00:00Z   8.0  PONTAL DE CAMBURI          0.0           0.0   \n",
       "4  2016-04-29T00:00:00Z  56.0    JARDIM DA PENHA          0.0           1.0   \n",
       "\n",
       "   Diabetes  Alcoholism  Handicap  SMS_received NoShow  \n",
       "0         0         0.0         0             0     No  \n",
       "1         0         0.0         0             0     No  \n",
       "2         0         0.0         0             0     No  \n",
       "3         0         0.0         0             0     No  \n",
       "4         1         0.0         0             0     No  "
      ]
     },
     "execution_count": 9,
     "metadata": {},
     "output_type": "execute_result"
    }
   ],
   "source": [
    "dataFrame.head()"
   ]
  },
  {
   "cell_type": "code",
   "execution_count": 10,
   "metadata": {},
   "outputs": [
    {
     "data": {
      "text/plain": [
       "<matplotlib.axes._subplots.AxesSubplot at 0x1a17841d90>"
      ]
     },
     "execution_count": 10,
     "metadata": {},
     "output_type": "execute_result"
    },
    {
     "data": {
      "image/png": "[encoded data removed]",
      "text/plain": [
       "<Figure size 432x288 with 1 Axes>"
      ]
     },
     "metadata": {
      "needs_background": "light"
     },
     "output_type": "display_data"
    }
   ],
   "source": [
    "sns.heatmap(dataFrame.isnull(), cbar=False)"
   ]
  },
  {
   "cell_type": "code",
   "execution_count": 13,
   "metadata": {},
   "outputs": [
    {
     "name": "stdout",
     "output_type": "stream",
     "text": [
      "Count of unique values in each column :\n",
      "PatientId           6100\n",
      "AppointmentID     110527\n",
      "Gender                 2\n",
      "ScheduledDay      103549\n",
      "AppointmentDay        27\n",
      "Age                  110\n",
      "Neighbourhood         81\n",
      "Scholarship            2\n",
      "Hipertension           2\n",
      "Diabetes               2\n",
      "Alcoholism             2\n",
      "Handicap               5\n",
      "SMS_received           2\n",
      "NoShow                 2\n",
      "dtype: int64\n"
     ]
    }
   ],
   "source": [
    "# Unique values in each column of dataframe\n",
    "uniqueValues = dataFrame.nunique() \n",
    "print('Count of unique values in each column :')\n",
    "print(uniqueValues)"
   ]
  },
  {
   "cell_type": "code",
   "execution_count": 45,
   "metadata": {},
   "outputs": [
    {
     "data": {
      "text/plain": [
       "array([0, 1, 2, 3, 4])"
      ]
     },
     "execution_count": 45,
     "metadata": {},
     "output_type": "execute_result"
    }
   ],
   "source": [
    "dataFrame['Handicap'].unique()"
   ]
  },
  {
   "cell_type": "code",
   "execution_count": 46,
   "metadata": {},
   "outputs": [
    {
     "data": {
      "text/plain": [
       "3097"
      ]
     },
     "execution_count": 46,
     "metadata": {},
     "output_type": "execute_result"
    }
   ],
   "source": [
    "dataFrame.isnull().sum().sum()"
   ]
  },
  {
   "cell_type": "code",
   "execution_count": 47,
   "metadata": {},
   "outputs": [],
   "source": [
    "dataFrame = dataFrame.dropna()"
   ]
  },
  {
   "cell_type": "code",
   "execution_count": 48,
   "metadata": {},
   "outputs": [
    {
     "data": {
      "text/plain": [
       "<matplotlib.axes._subplots.AxesSubplot at 0x1a189bf0d0>"
      ]
     },
     "execution_count": 48,
     "metadata": {},
     "output_type": "execute_result"
    },
    {
     "data": {
      "image/png": "[encoded data removed]",
      "text/plain": [
       "<Figure size 432x288 with 1 Axes>"
      ]
     },
     "metadata": {
      "needs_background": "light"
     },
     "output_type": "display_data"
    }
   ],
   "source": [
    "sns.heatmap(dataFrame.isnull(), cbar=False)"
   ]
  },
  {
   "cell_type": "code",
   "execution_count": 49,
   "metadata": {},
   "outputs": [
    {
     "data": {
      "text/plain": [
       "PatientId         float64\n",
       "AppointmentID       int64\n",
       "Gender             object\n",
       "ScheduledDay       object\n",
       "AppointmentDay     object\n",
       "Age               float64\n",
       "Neighbourhood      object\n",
       "Scholarship       float64\n",
       "Hipertension      float64\n",
       "Diabetes            int64\n",
       "Alcoholism        float64\n",
       "Handicap            int64\n",
       "SMS_received        int64\n",
       "NoShow             object\n",
       "dtype: object"
      ]
     },
     "execution_count": 49,
     "metadata": {},
     "output_type": "execute_result"
    }
   ],
   "source": [
    "dataFrame.dtypes"
   ]
  },
  {
   "cell_type": "code",
   "execution_count": 60,
   "metadata": {},
   "outputs": [],
   "source": [
    "import datetime\n",
    "from datetime import datetime\n",
    "#Changing the ScheduledDay/AppointmentDay to date and time\n",
    "dataFrame['ScheduledDay'] = pd.to_datetime(dataFrame['ScheduledDay'])\n",
    "dataFrame['AppointmentDay'] = pd.to_datetime(dataFrame['AppointmentDay'])"
   ]
  },
  {
   "cell_type": "code",
   "execution_count": 61,
   "metadata": {},
   "outputs": [],
   "source": [
    "dataFrame['ScheduledDay_year'] = dataFrame['ScheduledDay'].dt.year\n",
    "dataFrame['ScheduledDay_month'] = dataFrame['ScheduledDay'].dt.month\n",
    "dataFrame['ScheduledDay_quarter'] = dataFrame['ScheduledDay'].dt.quarter\n",
    "dataFrame['ScheduledDay_day'] = dataFrame['ScheduledDay'].dt.day\n",
    "dataFrame['ScheduledDay_hour'] = dataFrame['ScheduledDay'].dt.hour # this only give numer\n",
    "dataFrame['ScheduledDay_dayOfTheWeek'] = dataFrame['ScheduledDay'].dt.weekday_name"
   ]
  },
  {
   "cell_type": "code",
   "execution_count": 62,
   "metadata": {},
   "outputs": [],
   "source": [
    "dataFrame['AppointmentDay_year'] = dataFrame['AppointmentDay'].dt.year\n",
    "dataFrame['AppointmentDay_month'] = dataFrame['AppointmentDay'].dt.month\n",
    "dataFrame['AppointmentDay_quarter'] = dataFrame['AppointmentDay'].dt.quarter\n",
    "dataFrame['AppointmentDay_day'] = dataFrame['AppointmentDay'].dt.day\n",
    "dataFrame['AppointmentDay_hour'] = dataFrame['AppointmentDay'].dt.hour # this only give numer\n",
    "dataFrame['AppointmentDay_dayOfTheWeek'] = dataFrame['AppointmentDay'].dt.weekday_name"
   ]
  },
  {
   "cell_type": "code",
   "execution_count": 63,
   "metadata": {},
   "outputs": [],
   "source": [
    "dataFrame['difference'] = abs(dataFrame['AppointmentDay']- dataFrame['ScheduledDay'])\n",
    "dataFrame['difference'] = np.floor(dataFrame['difference'].apply(lambda x: x.total_seconds() / (3600 * 24)))"
   ]
  },
  {
   "cell_type": "code",
   "execution_count": 67,
   "metadata": {},
   "outputs": [
    {
     "data": {
      "text/plain": [
       "PatientId                                  float64\n",
       "AppointmentID                                int64\n",
       "Gender                                      object\n",
       "ScheduledDay                   datetime64[ns, UTC]\n",
       "AppointmentDay                 datetime64[ns, UTC]\n",
       "Age                                        float64\n",
       "Neighbourhood                               object\n",
       "Scholarship                                float64\n",
       "Hipertension                               float64\n",
       "Diabetes                                     int64\n",
       "Alcoholism                                 float64\n",
       "Handicap                                     int64\n",
       "SMS_received                                 int64\n",
       "NoShow                                      object\n",
       "ScheduledDay_year                            int64\n",
       "ScheduledDay_month                           int64\n",
       "ScheduledDay_quarter                         int64\n",
       "ScheduledDay_day                             int64\n",
       "ScheduledDay_hour                            int64\n",
       "ScheduledDay_dayOfTheWeek                   object\n",
       "AppointmentDay_year                          int64\n",
       "AppointmentDay_month                         int64\n",
       "AppointmentDay_quarter                       int64\n",
       "AppointmentDay_day                           int64\n",
       "AppointmentDay_hour                          int64\n",
       "AppointmentDay_dayOfTheWeek                 object\n",
       "difference                                 float64\n",
       "dtype: object"
      ]
     },
     "execution_count": 67,
     "metadata": {},
     "output_type": "execute_result"
    }
   ],
   "source": [
    "dataFrame.dtypes"
   ]
  },
  {
   "cell_type": "code",
   "execution_count": 68,
   "metadata": {},
   "outputs": [
    {
     "data": {
      "text/plain": [
       "<matplotlib.axes._subplots.AxesSubplot at 0x1a1b413810>"
      ]
     },
     "execution_count": 68,
     "metadata": {},
     "output_type": "execute_result"
    },
    {
     "data": {
      "image/png": "[encoded data removed]",
      "text/plain": [
       "<Figure size 432x288 with 1 Axes>"
      ]
     },
     "metadata": {
      "needs_background": "light"
     },
     "output_type": "display_data"
    }
   ],
   "source": [
    "sns.stripplot(data = dataFrame, y = 'difference', jitter = True)"
   ]
  },
  {
   "cell_type": "code",
   "execution_count": 69,
   "metadata": {},
   "outputs": [],
   "source": [
    "#dataFrame.columns[dataFrame.isnull().any()]\n",
    "#np.where(pd.isnull(dataFrame))\n",
    "#dataFrame['NoShow'].isnull() == True"
   ]
  },
  {
   "cell_type": "code",
   "execution_count": 70,
   "metadata": {},
   "outputs": [
    {
     "data": {
      "text/plain": [
       "<matplotlib.axes._subplots.AxesSubplot at 0x1a1b518390>"
      ]
     },
     "execution_count": 70,
     "metadata": {},
     "output_type": "execute_result"
    },
    {
     "data": {
      "image/png": "[encoded data removed]",
      "text/plain": [
       "<Figure size 432x288 with 1 Axes>"
      ]
     },
     "metadata": {
      "needs_background": "light"
     },
     "output_type": "display_data"
    }
   ],
   "source": [
    "sns.boxplot(data=dataFrame['Age'])"
   ]
  },
  {
   "cell_type": "code",
   "execution_count": 71,
   "metadata": {},
   "outputs": [],
   "source": [
    "dataFrame =dataFrame[(dataFrame.Age >= 0) & (dataFrame.Age<= 110)]"
   ]
  },
  {
   "cell_type": "code",
   "execution_count": 72,
   "metadata": {},
   "outputs": [
    {
     "data": {
      "image/png": "[encoded data removed]",
      "text/plain": [
       "<Figure size 432x288 with 1 Axes>"
      ]
     },
     "metadata": {
      "needs_background": "light"
     },
     "output_type": "display_data"
    }
   ],
   "source": [
    "sns.distplot(dataFrame['Age'], kde=False, fit=stats.norm);"
   ]
  },
  {
   "cell_type": "markdown",
   "metadata": {},
   "source": [
    "# EDA"
   ]
  },
  {
   "cell_type": "code",
   "execution_count": 130,
   "metadata": {},
   "outputs": [],
   "source": [
    "# countGender = pd.value_counts(dataFrame['Gender'],sort = True)\n",
    "# countGender.plot(kind = 'bar', rot = 0)\n",
    "# plt.title('Male & Female number')\n",
    "# plt.xlabel(\"Gender\")\n",
    "# plt.ylabel(\"Frequency\")"
   ]
  },
  {
   "cell_type": "code",
   "execution_count": 129,
   "metadata": {},
   "outputs": [
    {
     "data": {
      "image/png": "[encoded data removed]",
      "text/plain": [
       "<Figure size 432x432 with 1 Axes>"
      ]
     },
     "metadata": {
      "needs_background": "light"
     },
     "output_type": "display_data"
    }
   ],
   "source": [
    "ax = dataFrame['Gender'].value_counts().plot(kind='bar', figsize=(6,6),\n",
    "                                                  color=\"coral\", fontsize=13);\n",
    "ax.set_alpha(0.20)\n",
    "ax.set_title(\"Male & Female number\", fontsize=18)\n",
    "ax.set_xlabel(\"Gender\", fontsize=18);\n",
    "ax.set_ylabel(\"Frequency\", fontsize=18)\n",
    "ax.set_xticklabels([\"Female\", \"Male\"],rotation = 0);\n",
    "\n",
    "# create a list to collect the plt.patches data\n",
    "totals = []\n",
    "\n",
    "# find the values and append to list\n",
    "for i in ax.patches:\n",
    "    totals.append(i.get_height())\n",
    "    \n",
    "# set individual bar lables using above list\n",
    "total = sum(totals)\n",
    "\n",
    "# set individual bar lables using above list\n",
    "for i in ax.patches:\n",
    "    # get_x pulls left or right; get_height pushes up or down\n",
    "    ax.text(i.get_x()+.04, i.get_height()-3900, \\\n",
    "            str(round((i.get_height()/total)*100, 2))+'%', fontsize=18,\n",
    "                color='black')\n"
   ]
  },
  {
   "cell_type": "code",
   "execution_count": 131,
   "metadata": {},
   "outputs": [
    {
     "data": {
      "text/html": [
       "<div>\n",
       "<style scoped>\n",
       "    .dataframe tbody tr th:only-of-type {\n",
       "        vertical-align: middle;\n",
       "    }\n",
       "\n",
       "    .dataframe tbody tr th {\n",
       "        vertical-align: top;\n",
       "    }\n",
       "\n",
       "    .dataframe thead th {\n",
       "        text-align: right;\n",
       "    }\n",
       "</style>\n",
       "<table border=\"1\" class=\"dataframe\">\n",
       "  <thead>\n",
       "    <tr style=\"text-align: right;\">\n",
       "      <th></th>\n",
       "      <th>PatientId</th>\n",
       "      <th>AppointmentID</th>\n",
       "      <th>Gender</th>\n",
       "      <th>ScheduledDay</th>\n",
       "      <th>AppointmentDay</th>\n",
       "      <th>Age</th>\n",
       "      <th>Neighbourhood</th>\n",
       "      <th>Scholarship</th>\n",
       "      <th>Hipertension</th>\n",
       "      <th>Diabetes</th>\n",
       "      <th>...</th>\n",
       "      <th>ScheduledDay_hour</th>\n",
       "      <th>ScheduledDay_dayOfTheWeek</th>\n",
       "      <th>AppointmentDay_year</th>\n",
       "      <th>AppointmentDay_month</th>\n",
       "      <th>AppointmentDay_quarter</th>\n",
       "      <th>AppointmentDay_day</th>\n",
       "      <th>AppointmentDay_hour</th>\n",
       "      <th>AppointmentDay_dayOfTheWeek</th>\n",
       "      <th>difference</th>\n",
       "      <th>age_group</th>\n",
       "    </tr>\n",
       "  </thead>\n",
       "  <tbody>\n",
       "    <tr>\n",
       "      <th>0</th>\n",
       "      <td>2.990000e+13</td>\n",
       "      <td>5642903</td>\n",
       "      <td>F</td>\n",
       "      <td>2016-04-29 18:38:08+00:00</td>\n",
       "      <td>2016-04-29 00:00:00+00:00</td>\n",
       "      <td>62.0</td>\n",
       "      <td>JARDIM DA PENHA</td>\n",
       "      <td>0.0</td>\n",
       "      <td>1.0</td>\n",
       "      <td>0</td>\n",
       "      <td>...</td>\n",
       "      <td>18</td>\n",
       "      <td>Friday</td>\n",
       "      <td>2016</td>\n",
       "      <td>4</td>\n",
       "      <td>2</td>\n",
       "      <td>29</td>\n",
       "      <td>0</td>\n",
       "      <td>Friday</td>\n",
       "      <td>0.0</td>\n",
       "      <td>(60.0, 70.0]</td>\n",
       "    </tr>\n",
       "    <tr>\n",
       "      <th>1</th>\n",
       "      <td>5.590000e+14</td>\n",
       "      <td>5642503</td>\n",
       "      <td>M</td>\n",
       "      <td>2016-04-29 16:08:27+00:00</td>\n",
       "      <td>2016-04-29 00:00:00+00:00</td>\n",
       "      <td>56.0</td>\n",
       "      <td>JARDIM DA PENHA</td>\n",
       "      <td>0.0</td>\n",
       "      <td>0.0</td>\n",
       "      <td>0</td>\n",
       "      <td>...</td>\n",
       "      <td>16</td>\n",
       "      <td>Friday</td>\n",
       "      <td>2016</td>\n",
       "      <td>4</td>\n",
       "      <td>2</td>\n",
       "      <td>29</td>\n",
       "      <td>0</td>\n",
       "      <td>Friday</td>\n",
       "      <td>0.0</td>\n",
       "      <td>(50.0, 60.0]</td>\n",
       "    </tr>\n",
       "    <tr>\n",
       "      <th>2</th>\n",
       "      <td>4.260000e+12</td>\n",
       "      <td>5642549</td>\n",
       "      <td>F</td>\n",
       "      <td>2016-04-29 16:19:04+00:00</td>\n",
       "      <td>2016-04-29 00:00:00+00:00</td>\n",
       "      <td>62.0</td>\n",
       "      <td>MATA DA PRAIA</td>\n",
       "      <td>0.0</td>\n",
       "      <td>0.0</td>\n",
       "      <td>0</td>\n",
       "      <td>...</td>\n",
       "      <td>16</td>\n",
       "      <td>Friday</td>\n",
       "      <td>2016</td>\n",
       "      <td>4</td>\n",
       "      <td>2</td>\n",
       "      <td>29</td>\n",
       "      <td>0</td>\n",
       "      <td>Friday</td>\n",
       "      <td>0.0</td>\n",
       "      <td>(60.0, 70.0]</td>\n",
       "    </tr>\n",
       "    <tr>\n",
       "      <th>3</th>\n",
       "      <td>8.680000e+11</td>\n",
       "      <td>5642828</td>\n",
       "      <td>F</td>\n",
       "      <td>2016-04-29 17:29:31+00:00</td>\n",
       "      <td>2016-04-29 00:00:00+00:00</td>\n",
       "      <td>8.0</td>\n",
       "      <td>PONTAL DE CAMBURI</td>\n",
       "      <td>0.0</td>\n",
       "      <td>0.0</td>\n",
       "      <td>0</td>\n",
       "      <td>...</td>\n",
       "      <td>17</td>\n",
       "      <td>Friday</td>\n",
       "      <td>2016</td>\n",
       "      <td>4</td>\n",
       "      <td>2</td>\n",
       "      <td>29</td>\n",
       "      <td>0</td>\n",
       "      <td>Friday</td>\n",
       "      <td>0.0</td>\n",
       "      <td>(-0.001, 10.0]</td>\n",
       "    </tr>\n",
       "    <tr>\n",
       "      <th>4</th>\n",
       "      <td>8.840000e+12</td>\n",
       "      <td>5642494</td>\n",
       "      <td>F</td>\n",
       "      <td>2016-04-29 16:07:23+00:00</td>\n",
       "      <td>2016-04-29 00:00:00+00:00</td>\n",
       "      <td>56.0</td>\n",
       "      <td>JARDIM DA PENHA</td>\n",
       "      <td>0.0</td>\n",
       "      <td>1.0</td>\n",
       "      <td>1</td>\n",
       "      <td>...</td>\n",
       "      <td>16</td>\n",
       "      <td>Friday</td>\n",
       "      <td>2016</td>\n",
       "      <td>4</td>\n",
       "      <td>2</td>\n",
       "      <td>29</td>\n",
       "      <td>0</td>\n",
       "      <td>Friday</td>\n",
       "      <td>0.0</td>\n",
       "      <td>(50.0, 60.0]</td>\n",
       "    </tr>\n",
       "  </tbody>\n",
       "</table>\n",
       "<p>5 rows × 28 columns</p>\n",
       "</div>"
      ],
      "text/plain": [
       "      PatientId  AppointmentID Gender              ScheduledDay  \\\n",
       "0  2.990000e+13        5642903      F 2016-04-29 18:38:08+00:00   \n",
       "1  5.590000e+14        5642503      M 2016-04-29 16:08:27+00:00   \n",
       "2  4.260000e+12        5642549      F 2016-04-29 16:19:04+00:00   \n",
       "3  8.680000e+11        5642828      F 2016-04-29 17:29:31+00:00   \n",
       "4  8.840000e+12        5642494      F 2016-04-29 16:07:23+00:00   \n",
       "\n",
       "             AppointmentDay   Age      Neighbourhood  Scholarship  \\\n",
       "0 2016-04-29 00:00:00+00:00  62.0    JARDIM DA PENHA          0.0   \n",
       "1 2016-04-29 00:00:00+00:00  56.0    JARDIM DA PENHA          0.0   \n",
       "2 2016-04-29 00:00:00+00:00  62.0      MATA DA PRAIA          0.0   \n",
       "3 2016-04-29 00:00:00+00:00   8.0  PONTAL DE CAMBURI          0.0   \n",
       "4 2016-04-29 00:00:00+00:00  56.0    JARDIM DA PENHA          0.0   \n",
       "\n",
       "   Hipertension  Diabetes  ...  ScheduledDay_hour  ScheduledDay_dayOfTheWeek  \\\n",
       "0           1.0         0  ...                 18                     Friday   \n",
       "1           0.0         0  ...                 16                     Friday   \n",
       "2           0.0         0  ...                 16                     Friday   \n",
       "3           0.0         0  ...                 17                     Friday   \n",
       "4           1.0         1  ...                 16                     Friday   \n",
       "\n",
       "   AppointmentDay_year AppointmentDay_month  AppointmentDay_quarter  \\\n",
       "0                 2016                    4                       2   \n",
       "1                 2016                    4                       2   \n",
       "2                 2016                    4                       2   \n",
       "3                 2016                    4                       2   \n",
       "4                 2016                    4                       2   \n",
       "\n",
       "   AppointmentDay_day  AppointmentDay_hour  AppointmentDay_dayOfTheWeek  \\\n",
       "0                  29                    0                       Friday   \n",
       "1                  29                    0                       Friday   \n",
       "2                  29                    0                       Friday   \n",
       "3                  29                    0                       Friday   \n",
       "4                  29                    0                       Friday   \n",
       "\n",
       "   difference       age_group  \n",
       "0         0.0    (60.0, 70.0]  \n",
       "1         0.0    (50.0, 60.0]  \n",
       "2         0.0    (60.0, 70.0]  \n",
       "3         0.0  (-0.001, 10.0]  \n",
       "4         0.0    (50.0, 60.0]  \n",
       "\n",
       "[5 rows x 28 columns]"
      ]
     },
     "execution_count": 131,
     "metadata": {},
     "output_type": "execute_result"
    }
   ],
   "source": [
    "#df = pd.DataFrame(data={\"age\": randint(10, 50, 1000),\n",
    " #                   \"response\": [choice(['Yes', 'No']) for i in range(1000)]})\n",
    "\n",
    "dataFrame['age_group'] = pd.cut(dataFrame.Age, bins=[g for g in range(0, 110, 10)], include_lowest=True)\n",
    "dataFrame.head()\n"
   ]
  },
  {
   "cell_type": "code",
   "execution_count": 134,
   "metadata": {},
   "outputs": [
    {
     "name": "stdout",
     "output_type": "stream",
     "text": [
      "Count of unique values in each column :\n",
      "PatientId                        6045\n",
      "AppointmentID                  107419\n",
      "Gender                              2\n",
      "ScheduledDay                   100758\n",
      "AppointmentDay                     27\n",
      "Age                               102\n",
      "Neighbourhood                      81\n",
      "Scholarship                         2\n",
      "Hipertension                        2\n",
      "Diabetes                            2\n",
      "Alcoholism                          2\n",
      "Handicap                            5\n",
      "SMS_received                        2\n",
      "NoShow                              2\n",
      "ScheduledDay_year                   2\n",
      "ScheduledDay_month                  8\n",
      "ScheduledDay_quarter                3\n",
      "ScheduledDay_day                   31\n",
      "ScheduledDay_hour                  16\n",
      "ScheduledDay_dayOfTheWeek           6\n",
      "AppointmentDay_year                 1\n",
      "AppointmentDay_month                3\n",
      "AppointmentDay_quarter              1\n",
      "AppointmentDay_day                 24\n",
      "AppointmentDay_hour                 1\n",
      "AppointmentDay_dayOfTheWeek         6\n",
      "difference                        128\n",
      "age_group                          10\n",
      "dtype: int64\n"
     ]
    }
   ],
   "source": [
    "# Unique values in each column of dataframe\n",
    "uniqueValues = dataFrame.nunique() \n",
    "print('Count of unique values in each column :')\n",
    "print(uniqueValues)"
   ]
  },
  {
   "cell_type": "code",
   "execution_count": 178,
   "metadata": {},
   "outputs": [
    {
     "data": {
      "text/plain": [
       "array([1., 0.])"
      ]
     },
     "execution_count": 178,
     "metadata": {},
     "output_type": "execute_result"
    }
   ],
   "source": [
    "dataFrame['Hipertension'].unique()"
   ]
  },
  {
   "cell_type": "code",
   "execution_count": 229,
   "metadata": {},
   "outputs": [
    {
     "data": {
      "text/html": [
       "<div>\n",
       "<style scoped>\n",
       "    .dataframe tbody tr th:only-of-type {\n",
       "        vertical-align: middle;\n",
       "    }\n",
       "\n",
       "    .dataframe tbody tr th {\n",
       "        vertical-align: top;\n",
       "    }\n",
       "\n",
       "    .dataframe thead th {\n",
       "        text-align: right;\n",
       "    }\n",
       "</style>\n",
       "<table border=\"1\" class=\"dataframe\">\n",
       "  <thead>\n",
       "    <tr style=\"text-align: right;\">\n",
       "      <th></th>\n",
       "      <th>Hipertension</th>\n",
       "    </tr>\n",
       "    <tr>\n",
       "      <th>NoShow</th>\n",
       "      <th></th>\n",
       "    </tr>\n",
       "  </thead>\n",
       "  <tbody>\n",
       "    <tr>\n",
       "      <th>No</th>\n",
       "      <td>85722</td>\n",
       "    </tr>\n",
       "    <tr>\n",
       "      <th>Yes</th>\n",
       "      <td>21697</td>\n",
       "    </tr>\n",
       "  </tbody>\n",
       "</table>\n",
       "</div>"
      ],
      "text/plain": [
       "        Hipertension\n",
       "NoShow              \n",
       "No             85722\n",
       "Yes            21697"
      ]
     },
     "execution_count": 229,
     "metadata": {},
     "output_type": "execute_result"
    }
   ],
   "source": [
    "dataFrame.groupby(['NoShow'])[['Hipertension']].count()\n"
   ]
  },
  {
   "cell_type": "code",
   "execution_count": 230,
   "metadata": {},
   "outputs": [
    {
     "data": {
      "text/html": [
       "<div>\n",
       "<style scoped>\n",
       "    .dataframe tbody tr th:only-of-type {\n",
       "        vertical-align: middle;\n",
       "    }\n",
       "\n",
       "    .dataframe tbody tr th {\n",
       "        vertical-align: top;\n",
       "    }\n",
       "\n",
       "    .dataframe thead th {\n",
       "        text-align: right;\n",
       "    }\n",
       "</style>\n",
       "<table border=\"1\" class=\"dataframe\">\n",
       "  <thead>\n",
       "    <tr style=\"text-align: right;\">\n",
       "      <th></th>\n",
       "      <th>Diabetes</th>\n",
       "    </tr>\n",
       "    <tr>\n",
       "      <th>NoShow</th>\n",
       "      <th></th>\n",
       "    </tr>\n",
       "  </thead>\n",
       "  <tbody>\n",
       "    <tr>\n",
       "      <th>No</th>\n",
       "      <td>85722</td>\n",
       "    </tr>\n",
       "    <tr>\n",
       "      <th>Yes</th>\n",
       "      <td>21697</td>\n",
       "    </tr>\n",
       "  </tbody>\n",
       "</table>\n",
       "</div>"
      ],
      "text/plain": [
       "        Diabetes\n",
       "NoShow          \n",
       "No         85722\n",
       "Yes        21697"
      ]
     },
     "execution_count": 230,
     "metadata": {},
     "output_type": "execute_result"
    }
   ],
   "source": [
    "dataFrame.groupby(['NoShow'])[['Diabetes']].count()"
   ]
  },
  {
   "cell_type": "code",
   "execution_count": 214,
   "metadata": {},
   "outputs": [
    {
     "data": {
      "text/html": [
       "<div>\n",
       "<style scoped>\n",
       "    .dataframe tbody tr th:only-of-type {\n",
       "        vertical-align: middle;\n",
       "    }\n",
       "\n",
       "    .dataframe tbody tr th {\n",
       "        vertical-align: top;\n",
       "    }\n",
       "\n",
       "    .dataframe thead th {\n",
       "        text-align: right;\n",
       "    }\n",
       "</style>\n",
       "<table border=\"1\" class=\"dataframe\">\n",
       "  <thead>\n",
       "    <tr style=\"text-align: right;\">\n",
       "      <th></th>\n",
       "      <th>Hipertension</th>\n",
       "    </tr>\n",
       "    <tr>\n",
       "      <th>NoShow</th>\n",
       "      <th></th>\n",
       "    </tr>\n",
       "  </thead>\n",
       "  <tbody>\n",
       "    <tr>\n",
       "      <th>No</th>\n",
       "      <td>17500</td>\n",
       "    </tr>\n",
       "    <tr>\n",
       "      <th>Yes</th>\n",
       "      <td>3674</td>\n",
       "    </tr>\n",
       "  </tbody>\n",
       "</table>\n",
       "</div>"
      ],
      "text/plain": [
       "        Hipertension\n",
       "NoShow              \n",
       "No             17500\n",
       "Yes             3674"
      ]
     },
     "execution_count": 214,
     "metadata": {},
     "output_type": "execute_result"
    }
   ],
   "source": [
    "h0 = dataFrame[dataFrame['Hipertension'] == 0.].groupby(['NoShow'])[['Hipertension']].count()\n",
    "h0\n",
    "h1 = dataFrame[dataFrame['Hipertension'] == 1.].groupby(['NoShow'])[['Hipertension']].count()\n",
    "h1"
   ]
  },
  {
   "cell_type": "code",
   "execution_count": 215,
   "metadata": {},
   "outputs": [
    {
     "data": {
      "text/html": [
       "<div>\n",
       "<style scoped>\n",
       "    .dataframe tbody tr th:only-of-type {\n",
       "        vertical-align: middle;\n",
       "    }\n",
       "\n",
       "    .dataframe tbody tr th {\n",
       "        vertical-align: top;\n",
       "    }\n",
       "\n",
       "    .dataframe thead th {\n",
       "        text-align: right;\n",
       "    }\n",
       "</style>\n",
       "<table border=\"1\" class=\"dataframe\">\n",
       "  <thead>\n",
       "    <tr style=\"text-align: right;\">\n",
       "      <th></th>\n",
       "      <th>Diabetes</th>\n",
       "    </tr>\n",
       "    <tr>\n",
       "      <th>NoShow</th>\n",
       "      <th></th>\n",
       "    </tr>\n",
       "  </thead>\n",
       "  <tbody>\n",
       "    <tr>\n",
       "      <th>No</th>\n",
       "      <td>6320</td>\n",
       "    </tr>\n",
       "    <tr>\n",
       "      <th>Yes</th>\n",
       "      <td>1391</td>\n",
       "    </tr>\n",
       "  </tbody>\n",
       "</table>\n",
       "</div>"
      ],
      "text/plain": [
       "        Diabetes\n",
       "NoShow          \n",
       "No          6320\n",
       "Yes         1391"
      ]
     },
     "execution_count": 215,
     "metadata": {},
     "output_type": "execute_result"
    }
   ],
   "source": [
    "d0 = dataFrame[dataFrame['Diabetes'] == 0].groupby(['NoShow'])[['Diabetes']].count()\n",
    "d0\n",
    "d1 = dataFrame[dataFrame['Diabetes'] == 1].groupby(['NoShow'])[['Diabetes']].count()\n",
    "d1"
   ]
  },
  {
   "cell_type": "code",
   "execution_count": 246,
   "metadata": {},
   "outputs": [
    {
     "data": {
      "text/html": [
       "<div>\n",
       "<style scoped>\n",
       "    .dataframe tbody tr th:only-of-type {\n",
       "        vertical-align: middle;\n",
       "    }\n",
       "\n",
       "    .dataframe tbody tr th {\n",
       "        vertical-align: top;\n",
       "    }\n",
       "\n",
       "    .dataframe thead th {\n",
       "        text-align: right;\n",
       "    }\n",
       "</style>\n",
       "<table border=\"1\" class=\"dataframe\">\n",
       "  <thead>\n",
       "    <tr style=\"text-align: right;\">\n",
       "      <th></th>\n",
       "      <th>Alcoholism</th>\n",
       "    </tr>\n",
       "    <tr>\n",
       "      <th>NoShow</th>\n",
       "      <th></th>\n",
       "    </tr>\n",
       "  </thead>\n",
       "  <tbody>\n",
       "    <tr>\n",
       "      <th>No</th>\n",
       "      <td>2619</td>\n",
       "    </tr>\n",
       "    <tr>\n",
       "      <th>Yes</th>\n",
       "      <td>653</td>\n",
       "    </tr>\n",
       "  </tbody>\n",
       "</table>\n",
       "</div>"
      ],
      "text/plain": [
       "        Alcoholism\n",
       "NoShow            \n",
       "No            2619\n",
       "Yes            653"
      ]
     },
     "execution_count": 246,
     "metadata": {},
     "output_type": "execute_result"
    }
   ],
   "source": [
    "a0 = dataFrame[dataFrame['Alcoholism'] == 0].groupby(['NoShow'])[['Alcoholism']].count()\n",
    "a0\n",
    "a1 = dataFrame[dataFrame['Alcoholism'] == 1].groupby(['NoShow'])[['Alcoholism']].count()\n",
    "a1"
   ]
  },
  {
   "cell_type": "code",
   "execution_count": 263,
   "metadata": {},
   "outputs": [
    {
     "data": {
      "text/html": [
       "<div>\n",
       "<style scoped>\n",
       "    .dataframe tbody tr th:only-of-type {\n",
       "        vertical-align: middle;\n",
       "    }\n",
       "\n",
       "    .dataframe tbody tr th {\n",
       "        vertical-align: top;\n",
       "    }\n",
       "\n",
       "    .dataframe thead th {\n",
       "        text-align: right;\n",
       "    }\n",
       "</style>\n",
       "<table border=\"1\" class=\"dataframe\">\n",
       "  <thead>\n",
       "    <tr style=\"text-align: right;\">\n",
       "      <th></th>\n",
       "      <th>Hipertension</th>\n",
       "      <th>Diabetes</th>\n",
       "      <th>Alcoholism</th>\n",
       "    </tr>\n",
       "    <tr>\n",
       "      <th>NoShow</th>\n",
       "      <th></th>\n",
       "      <th></th>\n",
       "      <th></th>\n",
       "    </tr>\n",
       "  </thead>\n",
       "  <tbody>\n",
       "    <tr>\n",
       "      <th>No</th>\n",
       "      <td>68222</td>\n",
       "      <td>79402</td>\n",
       "      <td>83103</td>\n",
       "    </tr>\n",
       "    <tr>\n",
       "      <th>Yes</th>\n",
       "      <td>18023</td>\n",
       "      <td>20306</td>\n",
       "      <td>21044</td>\n",
       "    </tr>\n",
       "  </tbody>\n",
       "</table>\n",
       "</div>"
      ],
      "text/plain": [
       "        Hipertension  Diabetes  Alcoholism\n",
       "NoShow                                    \n",
       "No             68222     79402       83103\n",
       "Yes            18023     20306       21044"
      ]
     },
     "execution_count": 263,
     "metadata": {},
     "output_type": "execute_result"
    }
   ],
   "source": [
    "# concatenating the columns\n",
    "resulthda0 = pd.concat([h0, d0, a0], axis=1, sort=False)\n",
    "resulthda0"
   ]
  },
  {
   "cell_type": "code",
   "execution_count": 267,
   "metadata": {},
   "outputs": [
    {
     "data": {
      "image/png": "[encoded data removed]",
      "text/plain": [
       "<Figure size 504x432 with 1 Axes>"
      ]
     },
     "metadata": {
      "needs_background": "light"
     },
     "output_type": "display_data"
    }
   ],
   "source": [
    "ax = resulthda0[['Hipertension','Diabetes', 'Alcoholism']].plot(kind='bar',\n",
    "              figsize=(7,6), color=['dodgerblue', 'slategray', 'green'], fontsize=13);\n",
    "\n",
    "ax.set_alpha(0.8)\n",
    "ax.set_title(\"No - show of patients not having Hypertension, Diabetes & Alcoholism \",\n",
    "fontsize=18)\n",
    "ax.set_xlabel(\"No Show\", fontsize=18)\n",
    "ax.set_ylabel(\"Count of patients\", fontsize=18);\n",
    "ax.set_xticklabels(['No', \"Yes\"], rotation=0, fontsize=11)\n",
    "\n",
    "# set individual bar lables using above list\n",
    "for i in ax.patches:\n",
    "    # get_x pulls left or right; get_height pushes up or down\n",
    "    ax.text(i.get_x()+.0, i.get_height()+1000, \\\n",
    "            str(round((i.get_height()), 2)), fontsize=9, color='black',\n",
    "                rotation=0)"
   ]
  },
  {
   "cell_type": "code",
   "execution_count": 264,
   "metadata": {},
   "outputs": [
    {
     "data": {
      "text/html": [
       "<div>\n",
       "<style scoped>\n",
       "    .dataframe tbody tr th:only-of-type {\n",
       "        vertical-align: middle;\n",
       "    }\n",
       "\n",
       "    .dataframe tbody tr th {\n",
       "        vertical-align: top;\n",
       "    }\n",
       "\n",
       "    .dataframe thead th {\n",
       "        text-align: right;\n",
       "    }\n",
       "</style>\n",
       "<table border=\"1\" class=\"dataframe\">\n",
       "  <thead>\n",
       "    <tr style=\"text-align: right;\">\n",
       "      <th></th>\n",
       "      <th>Hipertension</th>\n",
       "      <th>Diabetes</th>\n",
       "      <th>Alcoholism</th>\n",
       "    </tr>\n",
       "    <tr>\n",
       "      <th>NoShow</th>\n",
       "      <th></th>\n",
       "      <th></th>\n",
       "      <th></th>\n",
       "    </tr>\n",
       "  </thead>\n",
       "  <tbody>\n",
       "    <tr>\n",
       "      <th>No</th>\n",
       "      <td>17500</td>\n",
       "      <td>6320</td>\n",
       "      <td>2619</td>\n",
       "    </tr>\n",
       "    <tr>\n",
       "      <th>Yes</th>\n",
       "      <td>3674</td>\n",
       "      <td>1391</td>\n",
       "      <td>653</td>\n",
       "    </tr>\n",
       "  </tbody>\n",
       "</table>\n",
       "</div>"
      ],
      "text/plain": [
       "        Hipertension  Diabetes  Alcoholism\n",
       "NoShow                                    \n",
       "No             17500      6320        2619\n",
       "Yes             3674      1391         653"
      ]
     },
     "execution_count": 264,
     "metadata": {},
     "output_type": "execute_result"
    }
   ],
   "source": [
    "# concatenating the columns\n",
    "resulthda1 = pd.concat([h1, d1, a1], axis=1, sort=False)\n",
    "resulthda1"
   ]
  },
  {
   "cell_type": "code",
   "execution_count": 268,
   "metadata": {},
   "outputs": [
    {
     "data": {
      "image/png": "[encoded data removed]",
      "text/plain": [
       "<Figure size 432x432 with 1 Axes>"
      ]
     },
     "metadata": {
      "needs_background": "light"
     },
     "output_type": "display_data"
    }
   ],
   "source": [
    "# Plotting the graph w\n",
    "\n",
    "ax = resulthda1[['Hipertension','Diabetes', 'Alcoholism']].plot(kind='bar',\n",
    "              figsize=(6,6), color=['dodgerblue', 'slategray', 'green'], fontsize=13);\n",
    "\n",
    "ax.set_alpha(0.8)\n",
    "ax.set_title(\"No - show of patients having Hypertension, Diabetes & Alcoholism \",\n",
    "fontsize=18)\n",
    "ax.set_xlabel(\"No Show\", fontsize=18)\n",
    "ax.set_ylabel(\"Count of patients\", fontsize=18);\n",
    "ax.set_xticklabels(['No', \"Yes\"], rotation=0, fontsize=11)\n",
    "\n",
    "# set individual bar lables using above list\n",
    "for i in ax.patches:\n",
    "    # get_x pulls left or right; get_height pushes up or down\n",
    "    ax.text(i.get_x()+.0, i.get_height()+180, \\\n",
    "            str(round((i.get_height()), 2)), fontsize=9, color='black',\n",
    "                rotation=0)"
   ]
  },
  {
   "cell_type": "code",
   "execution_count": 22,
   "metadata": {},
   "outputs": [
    {
     "data": {
      "image/png": "[encoded data removed]",
      "text/plain": [
       "<Figure size 720x720 with 1 Axes>"
      ]
     },
     "metadata": {
      "needs_background": "light"
     },
     "output_type": "display_data"
    }
   ],
   "source": [
    "plt.figure(figsize=(10, 10))\n",
    "sns.set(style=\"darkgrid\")\n",
    "sns.countplot(  y = 'NoShow',\n",
    "              data=dataFrame, \n",
    "              order = dataFrame['NoShow'].value_counts().index,\n",
    "              hue='age_group').set_title('Show/No Show on Gender Range') #palette=\"Greens_d\")\n",
    "#plt.title('Show/No Show on Gender Range')\n",
    "plt.show()"
   ]
  },
  {
   "cell_type": "code",
   "execution_count": 23,
   "metadata": {},
   "outputs": [
    {
     "data": {
      "text/plain": [
       "Text(0.5, 1.0, 'Show/No Show on Gender Range')"
      ]
     },
     "execution_count": 23,
     "metadata": {},
     "output_type": "execute_result"
    },
    {
     "data": {
      "image/png": "[encoded data removed]",
      "text/plain": [
       "<Figure size 720x720 with 1 Axes>"
      ]
     },
     "metadata": {},
     "output_type": "display_data"
    }
   ],
   "source": [
    "plt.figure(figsize=(10, 10))\n",
    "sns.countplot(  x = 'NoShow',\n",
    "              data=dataFrame, \n",
    "              order = dataFrame['NoShow'].value_counts().index,\n",
    "              hue='Gender').set_title('Show/No Show on Gender Range')"
   ]
  },
  {
   "cell_type": "code",
   "execution_count": 24,
   "metadata": {},
   "outputs": [
    {
     "data": {
      "text/plain": [
       "Text(0.5, 1.0, 'Show/No Show on Gender Range')"
      ]
     },
     "execution_count": 24,
     "metadata": {},
     "output_type": "execute_result"
    },
    {
     "data": {
      "image/png": "[encoded data removed]",
      "text/plain": [
       "<Figure size 720x720 with 1 Axes>"
      ]
     },
     "metadata": {},
     "output_type": "display_data"
    }
   ],
   "source": [
    "plt.figure(figsize=(10, 10))\n",
    "sns.countplot( x = 'NoShow',\n",
    "              data=dataFrame, \n",
    "              order = dataFrame['NoShow'].value_counts().index,\n",
    "              hue='AppointmentDay_dayOfTheWeek').set_title('Show/No Show on Gender Range') "
   ]
  },
  {
   "cell_type": "code",
   "execution_count": 25,
   "metadata": {},
   "outputs": [
    {
     "name": "stdout",
     "output_type": "stream",
     "text": [
      "<class 'pandas.core.frame.DataFrame'>\n",
      "Int64Index: 107419 entries, 0 to 110526\n",
      "Data columns (total 28 columns):\n",
      "PatientId                      107419 non-null float64\n",
      "AppointmentID                  107419 non-null int64\n",
      "Gender                         107419 non-null object\n",
      "ScheduledDay                   107419 non-null datetime64[ns, UTC]\n",
      "AppointmentDay                 107419 non-null datetime64[ns, UTC]\n",
      "Age                            107419 non-null float64\n",
      "Neighbourhood                  107419 non-null object\n",
      "Scholarship                    107419 non-null float64\n",
      "Hipertension                   107419 non-null float64\n",
      "Diabetes                       107419 non-null int64\n",
      "Alcoholism                     107419 non-null float64\n",
      "Handicap                       107419 non-null int64\n",
      "SMS_received                   107419 non-null int64\n",
      "NoShow                         107419 non-null object\n",
      "ScheduledDay_year              107419 non-null int64\n",
      "ScheduledDay_month             107419 non-null int64\n",
      "ScheduledDay_quarter           107419 non-null int64\n",
      "ScheduledDay_day               107419 non-null int64\n",
      "ScheduledDay_hour              107419 non-null int64\n",
      "ScheduledDay_dayOfTheWeek      107419 non-null object\n",
      "AppointmentDay_year            107419 non-null int64\n",
      "AppointmentDay_month           107419 non-null int64\n",
      "AppointmentDay_quarter         107419 non-null int64\n",
      "AppointmentDay_day             107419 non-null int64\n",
      "AppointmentDay_hour            107419 non-null int64\n",
      "AppointmentDay_dayOfTheWeek    107419 non-null object\n",
      "difference                     107419 non-null float64\n",
      "age_group                      107417 non-null category\n",
      "dtypes: category(1), datetime64[ns, UTC](2), float64(6), int64(14), object(5)\n",
      "memory usage: 28.0+ MB\n"
     ]
    }
   ],
   "source": [
    "dataFrame.info()"
   ]
  },
  {
   "cell_type": "markdown",
   "metadata": {},
   "source": [
    "# Data Pre-Processing\n"
   ]
  },
  {
   "cell_type": "code",
   "execution_count": 26,
   "metadata": {},
   "outputs": [],
   "source": [
    "dataFrame['ScheduledDay_dayOfTheWeek'] = dataFrame['ScheduledDay'].dt.weekday\n",
    "dataFrame['AppointmentDay_dayOfTheWeek'] = dataFrame['AppointmentDay'].dt.weekday"
   ]
  },
  {
   "cell_type": "code",
   "execution_count": 27,
   "metadata": {},
   "outputs": [],
   "source": [
    "dataFrame['Gender'].replace(0, 'F',inplace=True)\n",
    "dataFrame['Gender'].replace(1, 'M',inplace=True)"
   ]
  },
  {
   "cell_type": "code",
   "execution_count": 28,
   "metadata": {},
   "outputs": [],
   "source": [
    "#Not working for OBJECT TYPE\n",
    "#dataFrame['NoShow']= dataFrame['NoShow'].replace(1, 'Yes',inplace=True)\n",
    "#dataFrame['NoShow']= dataFrame['NoShow'].replace(0, 'No',inplace=True)"
   ]
  },
  {
   "cell_type": "code",
   "execution_count": 29,
   "metadata": {},
   "outputs": [],
   "source": [
    "dataFrame.NoShow = dataFrame.NoShow.apply(lambda x: 1 if x == 'Yes' else 0)"
   ]
  },
  {
   "cell_type": "code",
   "execution_count": 30,
   "metadata": {},
   "outputs": [
    {
     "data": {
      "text/plain": [
       "0    0\n",
       "1    0\n",
       "2    0\n",
       "3    0\n",
       "4    0\n",
       "5    0\n",
       "6    1\n",
       "7    1\n",
       "8    0\n",
       "9    0\n",
       "Name: NoShow, dtype: int64"
      ]
     },
     "execution_count": 30,
     "metadata": {},
     "output_type": "execute_result"
    }
   ],
   "source": [
    "dataFrame['NoShow'].head(n=10)"
   ]
  },
  {
   "cell_type": "code",
   "execution_count": 31,
   "metadata": {},
   "outputs": [],
   "source": [
    "#We need to handle the Object data type to fit for the model\n",
    "dataFrame = dataFrame.drop(columns=['PatientId',\n",
    "                                    'ScheduledDay',\n",
    "                                    'AppointmentDay',\n",
    "                                    'AppointmentID',\n",
    "                                    'AppointmentDay_quarter',\n",
    "                                    'AppointmentDay_year',\n",
    "                                    'AppointmentDay_hour'\n",
    "                                   ])\n"
   ]
  },
  {
   "cell_type": "markdown",
   "metadata": {},
   "source": [
    "# Predictions"
   ]
  },
  {
   "cell_type": "code",
   "execution_count": 32,
   "metadata": {},
   "outputs": [
    {
     "data": {
      "text/html": [
       "<div>\n",
       "<style scoped>\n",
       "    .dataframe tbody tr th:only-of-type {\n",
       "        vertical-align: middle;\n",
       "    }\n",
       "\n",
       "    .dataframe tbody tr th {\n",
       "        vertical-align: top;\n",
       "    }\n",
       "\n",
       "    .dataframe thead th {\n",
       "        text-align: right;\n",
       "    }\n",
       "</style>\n",
       "<table border=\"1\" class=\"dataframe\">\n",
       "  <thead>\n",
       "    <tr style=\"text-align: right;\">\n",
       "      <th></th>\n",
       "      <th>Age</th>\n",
       "      <th>Scholarship</th>\n",
       "      <th>Hipertension</th>\n",
       "      <th>Diabetes</th>\n",
       "      <th>Alcoholism</th>\n",
       "      <th>Handicap</th>\n",
       "      <th>SMS_received</th>\n",
       "      <th>NoShow</th>\n",
       "      <th>ScheduledDay_year</th>\n",
       "      <th>ScheduledDay_month</th>\n",
       "      <th>ScheduledDay_quarter</th>\n",
       "      <th>ScheduledDay_day</th>\n",
       "      <th>ScheduledDay_hour</th>\n",
       "      <th>ScheduledDay_dayOfTheWeek</th>\n",
       "      <th>AppointmentDay_month</th>\n",
       "      <th>AppointmentDay_day</th>\n",
       "      <th>AppointmentDay_dayOfTheWeek</th>\n",
       "      <th>difference</th>\n",
       "    </tr>\n",
       "  </thead>\n",
       "  <tbody>\n",
       "    <tr>\n",
       "      <th>Age</th>\n",
       "      <td>1.000000</td>\n",
       "      <td>-0.093227</td>\n",
       "      <td>0.503713</td>\n",
       "      <td>0.291766</td>\n",
       "      <td>0.096340</td>\n",
       "      <td>0.077414</td>\n",
       "      <td>0.016309</td>\n",
       "      <td>-0.060382</td>\n",
       "      <td>-0.027108</td>\n",
       "      <td>-0.001729</td>\n",
       "      <td>-0.030102</td>\n",
       "      <td>-0.011260</td>\n",
       "      <td>0.015856</td>\n",
       "      <td>0.012897</td>\n",
       "      <td>0.019381</td>\n",
       "      <td>-0.008969</td>\n",
       "      <td>0.002942</td>\n",
       "      <td>0.035488</td>\n",
       "    </tr>\n",
       "    <tr>\n",
       "      <th>Scholarship</th>\n",
       "      <td>-0.093227</td>\n",
       "      <td>1.000000</td>\n",
       "      <td>-0.019503</td>\n",
       "      <td>-0.024736</td>\n",
       "      <td>0.033560</td>\n",
       "      <td>-0.008097</td>\n",
       "      <td>0.000008</td>\n",
       "      <td>0.028766</td>\n",
       "      <td>0.001405</td>\n",
       "      <td>0.017507</td>\n",
       "      <td>0.026272</td>\n",
       "      <td>0.007887</td>\n",
       "      <td>-0.025203</td>\n",
       "      <td>-0.005151</td>\n",
       "      <td>-0.003811</td>\n",
       "      <td>0.002939</td>\n",
       "      <td>-0.000880</td>\n",
       "      <td>-0.031892</td>\n",
       "    </tr>\n",
       "    <tr>\n",
       "      <th>Hipertension</th>\n",
       "      <td>0.503713</td>\n",
       "      <td>-0.019503</td>\n",
       "      <td>1.000000</td>\n",
       "      <td>0.432791</td>\n",
       "      <td>0.089741</td>\n",
       "      <td>0.080089</td>\n",
       "      <td>-0.004690</td>\n",
       "      <td>-0.035136</td>\n",
       "      <td>-0.035834</td>\n",
       "      <td>0.025361</td>\n",
       "      <td>0.015137</td>\n",
       "      <td>-0.000077</td>\n",
       "      <td>-0.032181</td>\n",
       "      <td>0.002254</td>\n",
       "      <td>0.004061</td>\n",
       "      <td>-0.007792</td>\n",
       "      <td>0.003023</td>\n",
       "      <td>-0.017521</td>\n",
       "    </tr>\n",
       "    <tr>\n",
       "      <th>Diabetes</th>\n",
       "      <td>0.291766</td>\n",
       "      <td>-0.024736</td>\n",
       "      <td>0.432791</td>\n",
       "      <td>1.000000</td>\n",
       "      <td>0.019962</td>\n",
       "      <td>0.057429</td>\n",
       "      <td>-0.012861</td>\n",
       "      <td>-0.014957</td>\n",
       "      <td>-0.006831</td>\n",
       "      <td>0.025565</td>\n",
       "      <td>0.010215</td>\n",
       "      <td>-0.007344</td>\n",
       "      <td>-0.013525</td>\n",
       "      <td>0.000894</td>\n",
       "      <td>0.004025</td>\n",
       "      <td>-0.004249</td>\n",
       "      <td>0.006445</td>\n",
       "      <td>-0.027259</td>\n",
       "    </tr>\n",
       "    <tr>\n",
       "      <th>Alcoholism</th>\n",
       "      <td>0.096340</td>\n",
       "      <td>0.033560</td>\n",
       "      <td>0.089741</td>\n",
       "      <td>0.019962</td>\n",
       "      <td>1.000000</td>\n",
       "      <td>0.005166</td>\n",
       "      <td>-0.025527</td>\n",
       "      <td>-0.001065</td>\n",
       "      <td>0.004260</td>\n",
       "      <td>0.029696</td>\n",
       "      <td>0.018105</td>\n",
       "      <td>-0.004155</td>\n",
       "      <td>-0.002749</td>\n",
       "      <td>0.005611</td>\n",
       "      <td>0.003996</td>\n",
       "      <td>-0.002431</td>\n",
       "      <td>0.002584</td>\n",
       "      <td>-0.038840</td>\n",
       "    </tr>\n",
       "    <tr>\n",
       "      <th>Handicap</th>\n",
       "      <td>0.077414</td>\n",
       "      <td>-0.008097</td>\n",
       "      <td>0.080089</td>\n",
       "      <td>0.057429</td>\n",
       "      <td>0.005166</td>\n",
       "      <td>1.000000</td>\n",
       "      <td>-0.023377</td>\n",
       "      <td>-0.006258</td>\n",
       "      <td>-0.006305</td>\n",
       "      <td>0.014325</td>\n",
       "      <td>0.006660</td>\n",
       "      <td>-0.000692</td>\n",
       "      <td>0.001900</td>\n",
       "      <td>0.001766</td>\n",
       "      <td>-0.001195</td>\n",
       "      <td>-0.003020</td>\n",
       "      <td>0.005048</td>\n",
       "      <td>-0.018740</td>\n",
       "    </tr>\n",
       "    <tr>\n",
       "      <th>SMS_received</th>\n",
       "      <td>0.016309</td>\n",
       "      <td>0.000008</td>\n",
       "      <td>-0.004690</td>\n",
       "      <td>-0.012861</td>\n",
       "      <td>-0.025527</td>\n",
       "      <td>-0.023377</td>\n",
       "      <td>1.000000</td>\n",
       "      <td>0.125181</td>\n",
       "      <td>-0.019424</td>\n",
       "      <td>-0.298938</td>\n",
       "      <td>-0.116704</td>\n",
       "      <td>0.170692</td>\n",
       "      <td>0.062529</td>\n",
       "      <td>0.077293</td>\n",
       "      <td>0.100329</td>\n",
       "      <td>-0.044028</td>\n",
       "      <td>-0.091524</td>\n",
       "      <td>0.385600</td>\n",
       "    </tr>\n",
       "    <tr>\n",
       "      <th>NoShow</th>\n",
       "      <td>-0.060382</td>\n",
       "      <td>0.028766</td>\n",
       "      <td>-0.035136</td>\n",
       "      <td>-0.014957</td>\n",
       "      <td>-0.001065</td>\n",
       "      <td>-0.006258</td>\n",
       "      <td>0.125181</td>\n",
       "      <td>1.000000</td>\n",
       "      <td>-0.006253</td>\n",
       "      <td>-0.161392</td>\n",
       "      <td>-0.058000</td>\n",
       "      <td>0.043557</td>\n",
       "      <td>0.061414</td>\n",
       "      <td>0.006446</td>\n",
       "      <td>-0.022817</td>\n",
       "      <td>0.004114</td>\n",
       "      <td>0.001252</td>\n",
       "      <td>0.179568</td>\n",
       "    </tr>\n",
       "    <tr>\n",
       "      <th>ScheduledDay_year</th>\n",
       "      <td>-0.027108</td>\n",
       "      <td>0.001405</td>\n",
       "      <td>-0.035834</td>\n",
       "      <td>-0.006831</td>\n",
       "      <td>0.004260</td>\n",
       "      <td>-0.006305</td>\n",
       "      <td>-0.019424</td>\n",
       "      <td>-0.006253</td>\n",
       "      <td>1.000000</td>\n",
       "      <td>-0.242496</td>\n",
       "      <td>-0.252237</td>\n",
       "      <td>0.013221</td>\n",
       "      <td>-0.008394</td>\n",
       "      <td>0.018743</td>\n",
       "      <td>-0.011153</td>\n",
       "      <td>0.006643</td>\n",
       "      <td>-0.007653</td>\n",
       "      <td>-0.247723</td>\n",
       "    </tr>\n",
       "    <tr>\n",
       "      <th>ScheduledDay_month</th>\n",
       "      <td>-0.001729</td>\n",
       "      <td>0.017507</td>\n",
       "      <td>0.025361</td>\n",
       "      <td>0.025565</td>\n",
       "      <td>0.029696</td>\n",
       "      <td>0.014325</td>\n",
       "      <td>-0.298938</td>\n",
       "      <td>-0.161392</td>\n",
       "      <td>-0.242496</td>\n",
       "      <td>1.000000</td>\n",
       "      <td>0.566707</td>\n",
       "      <td>-0.440668</td>\n",
       "      <td>-0.061454</td>\n",
       "      <td>-0.034165</td>\n",
       "      <td>0.519533</td>\n",
       "      <td>-0.132150</td>\n",
       "      <td>-0.040330</td>\n",
       "      <td>-0.599609</td>\n",
       "    </tr>\n",
       "    <tr>\n",
       "      <th>ScheduledDay_quarter</th>\n",
       "      <td>-0.030102</td>\n",
       "      <td>0.026272</td>\n",
       "      <td>0.015137</td>\n",
       "      <td>0.010215</td>\n",
       "      <td>0.018105</td>\n",
       "      <td>0.006660</td>\n",
       "      <td>-0.116704</td>\n",
       "      <td>-0.058000</td>\n",
       "      <td>-0.252237</td>\n",
       "      <td>0.566707</td>\n",
       "      <td>1.000000</td>\n",
       "      <td>-0.061000</td>\n",
       "      <td>-0.032674</td>\n",
       "      <td>0.009794</td>\n",
       "      <td>0.122224</td>\n",
       "      <td>-0.015399</td>\n",
       "      <td>-0.027009</td>\n",
       "      <td>-0.521820</td>\n",
       "    </tr>\n",
       "    <tr>\n",
       "      <th>ScheduledDay_day</th>\n",
       "      <td>-0.011260</td>\n",
       "      <td>0.007887</td>\n",
       "      <td>-0.000077</td>\n",
       "      <td>-0.007344</td>\n",
       "      <td>-0.004155</td>\n",
       "      <td>-0.000692</td>\n",
       "      <td>0.170692</td>\n",
       "      <td>0.043557</td>\n",
       "      <td>0.013221</td>\n",
       "      <td>-0.440668</td>\n",
       "      <td>-0.061000</td>\n",
       "      <td>1.000000</td>\n",
       "      <td>0.015917</td>\n",
       "      <td>-0.035479</td>\n",
       "      <td>-0.210914</td>\n",
       "      <td>0.376709</td>\n",
       "      <td>-0.035007</td>\n",
       "      <td>0.032161</td>\n",
       "    </tr>\n",
       "    <tr>\n",
       "      <th>ScheduledDay_hour</th>\n",
       "      <td>0.015856</td>\n",
       "      <td>-0.025203</td>\n",
       "      <td>-0.032181</td>\n",
       "      <td>-0.013525</td>\n",
       "      <td>-0.002749</td>\n",
       "      <td>0.001900</td>\n",
       "      <td>0.062529</td>\n",
       "      <td>0.061414</td>\n",
       "      <td>-0.008394</td>\n",
       "      <td>-0.061454</td>\n",
       "      <td>-0.032674</td>\n",
       "      <td>0.015917</td>\n",
       "      <td>1.000000</td>\n",
       "      <td>-0.037863</td>\n",
       "      <td>-0.014311</td>\n",
       "      <td>0.025310</td>\n",
       "      <td>-0.003363</td>\n",
       "      <td>0.080708</td>\n",
       "    </tr>\n",
       "    <tr>\n",
       "      <th>ScheduledDay_dayOfTheWeek</th>\n",
       "      <td>0.012897</td>\n",
       "      <td>-0.005151</td>\n",
       "      <td>0.002254</td>\n",
       "      <td>0.000894</td>\n",
       "      <td>0.005611</td>\n",
       "      <td>0.001766</td>\n",
       "      <td>0.077293</td>\n",
       "      <td>0.006446</td>\n",
       "      <td>0.018743</td>\n",
       "      <td>-0.034165</td>\n",
       "      <td>0.009794</td>\n",
       "      <td>-0.035479</td>\n",
       "      <td>-0.037863</td>\n",
       "      <td>1.000000</td>\n",
       "      <td>-0.041097</td>\n",
       "      <td>-0.009989</td>\n",
       "      <td>0.329071</td>\n",
       "      <td>0.013640</td>\n",
       "    </tr>\n",
       "    <tr>\n",
       "      <th>AppointmentDay_month</th>\n",
       "      <td>0.019381</td>\n",
       "      <td>-0.003811</td>\n",
       "      <td>0.004061</td>\n",
       "      <td>0.004025</td>\n",
       "      <td>0.003996</td>\n",
       "      <td>-0.001195</td>\n",
       "      <td>0.100329</td>\n",
       "      <td>-0.022817</td>\n",
       "      <td>-0.011153</td>\n",
       "      <td>0.519533</td>\n",
       "      <td>0.122224</td>\n",
       "      <td>-0.210914</td>\n",
       "      <td>-0.014311</td>\n",
       "      <td>-0.041097</td>\n",
       "      <td>1.000000</td>\n",
       "      <td>-0.540611</td>\n",
       "      <td>-0.063978</td>\n",
       "      <td>0.002536</td>\n",
       "    </tr>\n",
       "    <tr>\n",
       "      <th>AppointmentDay_day</th>\n",
       "      <td>-0.008969</td>\n",
       "      <td>0.002939</td>\n",
       "      <td>-0.007792</td>\n",
       "      <td>-0.004249</td>\n",
       "      <td>-0.002431</td>\n",
       "      <td>-0.003020</td>\n",
       "      <td>-0.044028</td>\n",
       "      <td>0.004114</td>\n",
       "      <td>0.006643</td>\n",
       "      <td>-0.132150</td>\n",
       "      <td>-0.015399</td>\n",
       "      <td>0.376709</td>\n",
       "      <td>0.025310</td>\n",
       "      <td>-0.009989</td>\n",
       "      <td>-0.540611</td>\n",
       "      <td>1.000000</td>\n",
       "      <td>-0.062950</td>\n",
       "      <td>0.050100</td>\n",
       "    </tr>\n",
       "    <tr>\n",
       "      <th>AppointmentDay_dayOfTheWeek</th>\n",
       "      <td>0.002942</td>\n",
       "      <td>-0.000880</td>\n",
       "      <td>0.003023</td>\n",
       "      <td>0.006445</td>\n",
       "      <td>0.002584</td>\n",
       "      <td>0.005048</td>\n",
       "      <td>-0.091524</td>\n",
       "      <td>0.001252</td>\n",
       "      <td>-0.007653</td>\n",
       "      <td>-0.040330</td>\n",
       "      <td>-0.027009</td>\n",
       "      <td>-0.035007</td>\n",
       "      <td>-0.003363</td>\n",
       "      <td>0.329071</td>\n",
       "      <td>-0.063978</td>\n",
       "      <td>-0.062950</td>\n",
       "      <td>1.000000</td>\n",
       "      <td>-0.012333</td>\n",
       "    </tr>\n",
       "    <tr>\n",
       "      <th>difference</th>\n",
       "      <td>0.035488</td>\n",
       "      <td>-0.031892</td>\n",
       "      <td>-0.017521</td>\n",
       "      <td>-0.027259</td>\n",
       "      <td>-0.038840</td>\n",
       "      <td>-0.018740</td>\n",
       "      <td>0.385600</td>\n",
       "      <td>0.179568</td>\n",
       "      <td>-0.247723</td>\n",
       "      <td>-0.599609</td>\n",
       "      <td>-0.521820</td>\n",
       "      <td>0.032161</td>\n",
       "      <td>0.080708</td>\n",
       "      <td>0.013640</td>\n",
       "      <td>0.002536</td>\n",
       "      <td>0.050100</td>\n",
       "      <td>-0.012333</td>\n",
       "      <td>1.000000</td>\n",
       "    </tr>\n",
       "  </tbody>\n",
       "</table>\n",
       "</div>"
      ],
      "text/plain": [
       "                                  Age  Scholarship  Hipertension  Diabetes  \\\n",
       "Age                          1.000000    -0.093227      0.503713  0.291766   \n",
       "Scholarship                 -0.093227     1.000000     -0.019503 -0.024736   \n",
       "Hipertension                 0.503713    -0.019503      1.000000  0.432791   \n",
       "Diabetes                     0.291766    -0.024736      0.432791  1.000000   \n",
       "Alcoholism                   0.096340     0.033560      0.089741  0.019962   \n",
       "Handicap                     0.077414    -0.008097      0.080089  0.057429   \n",
       "SMS_received                 0.016309     0.000008     -0.004690 -0.012861   \n",
       "NoShow                      -0.060382     0.028766     -0.035136 -0.014957   \n",
       "ScheduledDay_year           -0.027108     0.001405     -0.035834 -0.006831   \n",
       "ScheduledDay_month          -0.001729     0.017507      0.025361  0.025565   \n",
       "ScheduledDay_quarter        -0.030102     0.026272      0.015137  0.010215   \n",
       "ScheduledDay_day            -0.011260     0.007887     -0.000077 -0.007344   \n",
       "ScheduledDay_hour            0.015856    -0.025203     -0.032181 -0.013525   \n",
       "ScheduledDay_dayOfTheWeek    0.012897    -0.005151      0.002254  0.000894   \n",
       "AppointmentDay_month         0.019381    -0.003811      0.004061  0.004025   \n",
       "AppointmentDay_day          -0.008969     0.002939     -0.007792 -0.004249   \n",
       "AppointmentDay_dayOfTheWeek  0.002942    -0.000880      0.003023  0.006445   \n",
       "difference                   0.035488    -0.031892     -0.017521 -0.027259   \n",
       "\n",
       "                             Alcoholism  Handicap  SMS_received    NoShow  \\\n",
       "Age                            0.096340  0.077414      0.016309 -0.060382   \n",
       "Scholarship                    0.033560 -0.008097      0.000008  0.028766   \n",
       "Hipertension                   0.089741  0.080089     -0.004690 -0.035136   \n",
       "Diabetes                       0.019962  0.057429     -0.012861 -0.014957   \n",
       "Alcoholism                     1.000000  0.005166     -0.025527 -0.001065   \n",
       "Handicap                       0.005166  1.000000     -0.023377 -0.006258   \n",
       "SMS_received                  -0.025527 -0.023377      1.000000  0.125181   \n",
       "NoShow                        -0.001065 -0.006258      0.125181  1.000000   \n",
       "ScheduledDay_year              0.004260 -0.006305     -0.019424 -0.006253   \n",
       "ScheduledDay_month             0.029696  0.014325     -0.298938 -0.161392   \n",
       "ScheduledDay_quarter           0.018105  0.006660     -0.116704 -0.058000   \n",
       "ScheduledDay_day              -0.004155 -0.000692      0.170692  0.043557   \n",
       "ScheduledDay_hour             -0.002749  0.001900      0.062529  0.061414   \n",
       "ScheduledDay_dayOfTheWeek      0.005611  0.001766      0.077293  0.006446   \n",
       "AppointmentDay_month           0.003996 -0.001195      0.100329 -0.022817   \n",
       "AppointmentDay_day            -0.002431 -0.003020     -0.044028  0.004114   \n",
       "AppointmentDay_dayOfTheWeek    0.002584  0.005048     -0.091524  0.001252   \n",
       "difference                    -0.038840 -0.018740      0.385600  0.179568   \n",
       "\n",
       "                             ScheduledDay_year  ScheduledDay_month  \\\n",
       "Age                                  -0.027108           -0.001729   \n",
       "Scholarship                           0.001405            0.017507   \n",
       "Hipertension                         -0.035834            0.025361   \n",
       "Diabetes                             -0.006831            0.025565   \n",
       "Alcoholism                            0.004260            0.029696   \n",
       "Handicap                             -0.006305            0.014325   \n",
       "SMS_received                         -0.019424           -0.298938   \n",
       "NoShow                               -0.006253           -0.161392   \n",
       "ScheduledDay_year                     1.000000           -0.242496   \n",
       "ScheduledDay_month                   -0.242496            1.000000   \n",
       "ScheduledDay_quarter                 -0.252237            0.566707   \n",
       "ScheduledDay_day                      0.013221           -0.440668   \n",
       "ScheduledDay_hour                    -0.008394           -0.061454   \n",
       "ScheduledDay_dayOfTheWeek             0.018743           -0.034165   \n",
       "AppointmentDay_month                 -0.011153            0.519533   \n",
       "AppointmentDay_day                    0.006643           -0.132150   \n",
       "AppointmentDay_dayOfTheWeek          -0.007653           -0.040330   \n",
       "difference                           -0.247723           -0.599609   \n",
       "\n",
       "                             ScheduledDay_quarter  ScheduledDay_day  \\\n",
       "Age                                     -0.030102         -0.011260   \n",
       "Scholarship                              0.026272          0.007887   \n",
       "Hipertension                             0.015137         -0.000077   \n",
       "Diabetes                                 0.010215         -0.007344   \n",
       "Alcoholism                               0.018105         -0.004155   \n",
       "Handicap                                 0.006660         -0.000692   \n",
       "SMS_received                            -0.116704          0.170692   \n",
       "NoShow                                  -0.058000          0.043557   \n",
       "ScheduledDay_year                       -0.252237          0.013221   \n",
       "ScheduledDay_month                       0.566707         -0.440668   \n",
       "ScheduledDay_quarter                     1.000000         -0.061000   \n",
       "ScheduledDay_day                        -0.061000          1.000000   \n",
       "ScheduledDay_hour                       -0.032674          0.015917   \n",
       "ScheduledDay_dayOfTheWeek                0.009794         -0.035479   \n",
       "AppointmentDay_month                     0.122224         -0.210914   \n",
       "AppointmentDay_day                      -0.015399          0.376709   \n",
       "AppointmentDay_dayOfTheWeek             -0.027009         -0.035007   \n",
       "difference                              -0.521820          0.032161   \n",
       "\n",
       "                             ScheduledDay_hour  ScheduledDay_dayOfTheWeek  \\\n",
       "Age                                   0.015856                   0.012897   \n",
       "Scholarship                          -0.025203                  -0.005151   \n",
       "Hipertension                         -0.032181                   0.002254   \n",
       "Diabetes                             -0.013525                   0.000894   \n",
       "Alcoholism                           -0.002749                   0.005611   \n",
       "Handicap                              0.001900                   0.001766   \n",
       "SMS_received                          0.062529                   0.077293   \n",
       "NoShow                                0.061414                   0.006446   \n",
       "ScheduledDay_year                    -0.008394                   0.018743   \n",
       "ScheduledDay_month                   -0.061454                  -0.034165   \n",
       "ScheduledDay_quarter                 -0.032674                   0.009794   \n",
       "ScheduledDay_day                      0.015917                  -0.035479   \n",
       "ScheduledDay_hour                     1.000000                  -0.037863   \n",
       "ScheduledDay_dayOfTheWeek            -0.037863                   1.000000   \n",
       "AppointmentDay_month                 -0.014311                  -0.041097   \n",
       "AppointmentDay_day                    0.025310                  -0.009989   \n",
       "AppointmentDay_dayOfTheWeek          -0.003363                   0.329071   \n",
       "difference                            0.080708                   0.013640   \n",
       "\n",
       "                             AppointmentDay_month  AppointmentDay_day  \\\n",
       "Age                                      0.019381           -0.008969   \n",
       "Scholarship                             -0.003811            0.002939   \n",
       "Hipertension                             0.004061           -0.007792   \n",
       "Diabetes                                 0.004025           -0.004249   \n",
       "Alcoholism                               0.003996           -0.002431   \n",
       "Handicap                                -0.001195           -0.003020   \n",
       "SMS_received                             0.100329           -0.044028   \n",
       "NoShow                                  -0.022817            0.004114   \n",
       "ScheduledDay_year                       -0.011153            0.006643   \n",
       "ScheduledDay_month                       0.519533           -0.132150   \n",
       "ScheduledDay_quarter                     0.122224           -0.015399   \n",
       "ScheduledDay_day                        -0.210914            0.376709   \n",
       "ScheduledDay_hour                       -0.014311            0.025310   \n",
       "ScheduledDay_dayOfTheWeek               -0.041097           -0.009989   \n",
       "AppointmentDay_month                     1.000000           -0.540611   \n",
       "AppointmentDay_day                      -0.540611            1.000000   \n",
       "AppointmentDay_dayOfTheWeek             -0.063978           -0.062950   \n",
       "difference                               0.002536            0.050100   \n",
       "\n",
       "                             AppointmentDay_dayOfTheWeek  difference  \n",
       "Age                                             0.002942    0.035488  \n",
       "Scholarship                                    -0.000880   -0.031892  \n",
       "Hipertension                                    0.003023   -0.017521  \n",
       "Diabetes                                        0.006445   -0.027259  \n",
       "Alcoholism                                      0.002584   -0.038840  \n",
       "Handicap                                        0.005048   -0.018740  \n",
       "SMS_received                                   -0.091524    0.385600  \n",
       "NoShow                                          0.001252    0.179568  \n",
       "ScheduledDay_year                              -0.007653   -0.247723  \n",
       "ScheduledDay_month                             -0.040330   -0.599609  \n",
       "ScheduledDay_quarter                           -0.027009   -0.521820  \n",
       "ScheduledDay_day                               -0.035007    0.032161  \n",
       "ScheduledDay_hour                              -0.003363    0.080708  \n",
       "ScheduledDay_dayOfTheWeek                       0.329071    0.013640  \n",
       "AppointmentDay_month                           -0.063978    0.002536  \n",
       "AppointmentDay_day                             -0.062950    0.050100  \n",
       "AppointmentDay_dayOfTheWeek                     1.000000   -0.012333  \n",
       "difference                                     -0.012333    1.000000  "
      ]
     },
     "execution_count": 32,
     "metadata": {},
     "output_type": "execute_result"
    }
   ],
   "source": [
    "dataFrame.corr()"
   ]
  },
  {
   "cell_type": "code",
   "execution_count": 33,
   "metadata": {},
   "outputs": [
    {
     "name": "stdout",
     "output_type": "stream",
     "text": [
      "(75193, 17)\n",
      "(75193,)\n",
      "(32226, 17)\n",
      "(32226,)\n"
     ]
    }
   ],
   "source": [
    "x = dataFrame[['Age','Scholarship','Hipertension','Diabetes','Alcoholism',\n",
    "               'Handicap','SMS_received','ScheduledDay_year','ScheduledDay_month','ScheduledDay_quarter',\n",
    "               'ScheduledDay_day','ScheduledDay_hour','ScheduledDay_dayOfTheWeek','AppointmentDay_month',\n",
    "               'AppointmentDay_day','AppointmentDay_dayOfTheWeek','difference'\n",
    "              ]]\n",
    "y = dataFrame ['NoShow']\n",
    "x_train, x_test, y_train, y_test = train_test_split(x, y, test_size=0.3, random_state=101)\n",
    "\n",
    "print(x_train.shape)\n",
    "print(y_train.shape)\n",
    "print(x_test.shape)\n",
    "print(y_test.shape)"
   ]
  },
  {
   "cell_type": "code",
   "execution_count": 43,
   "metadata": {},
   "outputs": [
    {
     "data": {
      "text/plain": [
       "RandomForestClassifier(bootstrap=True, class_weight=None, criterion='gini',\n",
       "            max_depth=10, max_features='auto', max_leaf_nodes=None,\n",
       "            min_impurity_decrease=0.0, min_impurity_split=None,\n",
       "            min_samples_leaf=1, min_samples_split=2,\n",
       "            min_weight_fraction_leaf=0.0, n_estimators=10000, n_jobs=-1,\n",
       "            oob_score=False, random_state=10, verbose=0, warm_start=False)"
      ]
     },
     "execution_count": 43,
     "metadata": {},
     "output_type": "execute_result"
    }
   ],
   "source": [
    "# Create a random forest classifier\n",
    "clf = RandomForestClassifier(n_estimators=10000, random_state=10, n_jobs=-1,max_depth=10)\n",
    "\n",
    "# Train the classifier\n",
    "clf.fit(x_train, y_train)"
   ]
  },
  {
   "cell_type": "code",
   "execution_count": 44,
   "metadata": {},
   "outputs": [
    {
     "data": {
      "text/plain": [
       "0.8009681623533793"
      ]
     },
     "execution_count": 44,
     "metadata": {},
     "output_type": "execute_result"
    }
   ],
   "source": [
    "# Apply The Full Featured Classifier To The Test Data\n",
    "y_pred = clf.predict(x_test)\n",
    "\n",
    "# View The Accuracy Of Our Full Feature (4 Features) Model\n",
    "accuracy_score(y_test, y_pred)"
   ]
  },
  {
   "cell_type": "code",
   "execution_count": 36,
   "metadata": {},
   "outputs": [
    {
     "name": "stdout",
     "output_type": "stream",
     "text": [
      "('Age', 0.06838523797179415)\n",
      "('Scholarship', 0.004741698559409668)\n",
      "('Hipertension', 0.0065318410619888126)\n",
      "('Diabetes', 0.00045945215813830833)\n",
      "('Alcoholism', 0.001043969878753715)\n",
      "('Handicap', 0.0004433091613471575)\n",
      "('SMS_received', 0.09645075108865876)\n",
      "('ScheduledDay_year', 9.855816631808708e-05)\n",
      "('ScheduledDay_month', 0.18464752653953329)\n",
      "('ScheduledDay_quarter', 0.013377980541988396)\n",
      "('ScheduledDay_day', 0.01993995302699657)\n",
      "('ScheduledDay_hour', 0.01899365799842337)\n",
      "('ScheduledDay_dayOfTheWeek', 0.004346012249577432)\n",
      "('AppointmentDay_month', 0.009314495516152226)\n",
      "('AppointmentDay_day', 0.020767722563550958)\n",
      "('AppointmentDay_dayOfTheWeek', 0.003813161953629136)\n",
      "('difference', 0.5466446715637399)\n"
     ]
    }
   ],
   "source": [
    "for feature in zip(x, clf.feature_importances_):\n",
    "    print(feature)"
   ]
  },
  {
   "cell_type": "code",
   "execution_count": 37,
   "metadata": {},
   "outputs": [
    {
     "data": {
      "text/plain": [
       "SelectFromModel(estimator=RandomForestClassifier(bootstrap=True, class_weight=None, criterion='gini',\n",
       "            max_depth=4, max_features='auto', max_leaf_nodes=None,\n",
       "            min_impurity_decrease=0.0, min_impurity_split=None,\n",
       "            min_samples_leaf=1, min_samples_split=2,\n",
       "            min_weight_fraction_leaf=0.0, n_estimators=10000, n_jobs=-1,\n",
       "            oob_score=False, random_state=10, verbose=0, warm_start=False),\n",
       "        max_features=None, norm_order=1, prefit=False, threshold=0.15)"
      ]
     },
     "execution_count": 37,
     "metadata": {},
     "output_type": "execute_result"
    }
   ],
   "source": [
    "sfm = SelectFromModel(clf, threshold=0.15)\n",
    "\n",
    "# Train the selector\n",
    "sfm.fit(x_train, y_train)"
   ]
  },
  {
   "cell_type": "code",
   "execution_count": 42,
   "metadata": {},
   "outputs": [],
   "source": [
    "#for feature_list_index in sfm.get_support(indices=True):\n",
    "#    print(x[feature_list_index])"
   ]
  },
  {
   "cell_type": "code",
   "execution_count": 38,
   "metadata": {},
   "outputs": [],
   "source": [
    "X_important_train = sfm.transform(x_train)\n",
    "X_important_test = sfm.transform(x_test)"
   ]
  },
  {
   "cell_type": "code",
   "execution_count": 39,
   "metadata": {},
   "outputs": [
    {
     "data": {
      "text/plain": [
       "RandomForestClassifier(bootstrap=True, class_weight=None, criterion='gini',\n",
       "            max_depth=10, max_features='auto', max_leaf_nodes=None,\n",
       "            min_impurity_decrease=0.0, min_impurity_split=None,\n",
       "            min_samples_leaf=1, min_samples_split=2,\n",
       "            min_weight_fraction_leaf=0.0, n_estimators=10000, n_jobs=-1,\n",
       "            oob_score=False, random_state=10, verbose=0, warm_start=False)"
      ]
     },
     "execution_count": 39,
     "metadata": {},
     "output_type": "execute_result"
    }
   ],
   "source": [
    "# Create a new random forest classifier for the most important features\n",
    "clf_important = RandomForestClassifier(n_estimators=10000, random_state=10, n_jobs=-1,max_depth=10)\n",
    "\n",
    "# Train the new classifier on the new dataset containing the most important features\n",
    "clf_important.fit(X_important_train, y_train)"
   ]
  },
  {
   "cell_type": "code",
   "execution_count": 40,
   "metadata": {},
   "outputs": [
    {
     "data": {
      "text/plain": [
       "0.800688884751443"
      ]
     },
     "execution_count": 40,
     "metadata": {},
     "output_type": "execute_result"
    }
   ],
   "source": [
    "# Apply The Full Featured Classifier To The Test Data\n",
    "y_important_pred = clf_important.predict(X_important_test)\n",
    "\n",
    "# View The Accuracy Of Our Limited Feature (2 Features) Model\n",
    "accuracy_score(y_test, y_important_pred)"
   ]
  },
  {
   "cell_type": "markdown",
   "metadata": {},
   "source": [
    "# PCA analysis\n",
    "\n",
    "<b>When should I use PCA?</b>\n",
    "\n",
    "    1.Do you want to reduce the number of variables, but aren’t able to identify variables to completely \n",
    "    remove from   consideration?\n",
    "    2.Do you want to ensure your variables are independent of one another?\n",
    "    3.Are you comfortable making your independent variables less interpretable?\n",
    "    \n",
    "<b>PCA is a method that brings together </b>\n",
    "\n",
    "    1.A measure of how each variable is associated with one another. (Covariance matrix.)\n",
    "    2.The directions in which our data are dispersed. (Eigenvectors.)\n",
    "    3.The relative importance of these different directions. (Eigenvalues.)\n",
    "\n",
    "<b>PCA combines our predictors and allows us to drop the eigenvectors that are relatively unimportant</b>\n"
   ]
  },
  {
   "cell_type": "code",
   "execution_count": 53,
   "metadata": {},
   "outputs": [],
   "source": [
    "from sklearn.decomposition import PCA \n",
    "  \n",
    "pca = PCA(n_components = 6) \n",
    "  \n",
    "X_train_Pca = pca.fit_transform(x_train) \n",
    "X_test_Pca = pca.transform(x_test) \n",
    "  \n",
    "explained_variance = pca.explained_variance_ratio_ "
   ]
  },
  {
   "cell_type": "code",
   "execution_count": 60,
   "metadata": {},
   "outputs": [
    {
     "data": {
      "text/plain": [
       "RandomForestClassifier(bootstrap=True, class_weight=None, criterion='gini',\n",
       "            max_depth=10, max_features='auto', max_leaf_nodes=None,\n",
       "            min_impurity_decrease=0.0, min_impurity_split=None,\n",
       "            min_samples_leaf=1, min_samples_split=2,\n",
       "            min_weight_fraction_leaf=0.0, n_estimators=10000, n_jobs=-1,\n",
       "            oob_score=False, random_state=10, verbose=0, warm_start=False)"
      ]
     },
     "execution_count": 60,
     "metadata": {},
     "output_type": "execute_result"
    }
   ],
   "source": [
    "# Create a new random forest classifier for the most important features\n",
    "clf_important = RandomForestClassifier(n_estimators=10000, random_state=10, n_jobs=-1,max_depth=10)\n",
    "\n",
    "# Train the new classifier on the new dataset containing the most important features\n",
    "clf_important.fit(X_train_Pca, y_train)"
   ]
  },
  {
   "cell_type": "code",
   "execution_count": null,
   "metadata": {},
   "outputs": [],
   "source": [
    "y_pred = clf_important.predict(X_test_Pca)"
   ]
  },
  {
   "cell_type": "code",
   "execution_count": 52,
   "metadata": {},
   "outputs": [
    {
     "data": {
      "text/plain": [
       "0.8016818717805498"
      ]
     },
     "execution_count": 52,
     "metadata": {},
     "output_type": "execute_result"
    }
   ],
   "source": [
    "accuracy_score(y_test, y_pred)"
   ]
  },
  {
   "cell_type": "code",
   "execution_count": 61,
   "metadata": {},
   "outputs": [
    {
     "name": "stdout",
     "output_type": "stream",
     "text": [
      "Requirement already satisfied: xgboost in c:\\users\\psk\\anaconda3\\lib\\site-packages (0.90)\n",
      "Requirement already satisfied: numpy in c:\\users\\psk\\anaconda3\\lib\\site-packages (from xgboost) (1.16.2)\n",
      "Requirement already satisfied: scipy in c:\\users\\psk\\anaconda3\\lib\\site-packages (from xgboost) (1.2.1)\n"
     ]
    }
   ],
   "source": [
    "!pip install xgboost "
   ]
  },
  {
   "cell_type": "code",
   "execution_count": 62,
   "metadata": {},
   "outputs": [],
   "source": [
    "import xgboost as xgb"
   ]
  },
  {
   "cell_type": "code",
   "execution_count": 68,
   "metadata": {},
   "outputs": [
    {
     "data": {
      "text/plain": [
       "0.800688884751443"
      ]
     },
     "execution_count": 68,
     "metadata": {},
     "output_type": "execute_result"
    }
   ],
   "source": [
    "model=xgb.XGBClassifier(random_state=1,learning_rate=0.01)\n",
    "model.fit(x_train, y_train)\n",
    "model.score(x_test,y_test)"
   ]
  }
 ],
 "metadata": {
  "kernelspec": {
   "display_name": "Python 3",
   "language": "python",
   "name": "python3"
  },
  "language_info": {
   "codemirror_mode": {
    "name": "ipython",
    "version": 3
   },
   "file_extension": ".py",
   "mimetype": "text/x-python",
   "name": "python",
   "nbconvert_exporter": "python",
   "pygments_lexer": "ipython3",
   "version": "3.7.4"
  }
 },
 "nbformat": 4,
 "nbformat_minor": 2
}
